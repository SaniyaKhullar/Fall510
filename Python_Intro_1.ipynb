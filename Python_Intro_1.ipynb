{
 "cells": [
  {
   "cell_type": "markdown",
   "metadata": {},
   "source": [
    "# Introduction to iPython"
   ]
  },
  {
   "cell_type": "markdown",
   "metadata": {},
   "source": [
    "## Do some simple math. Add and multiply some numbers."
   ]
  },
  {
   "cell_type": "code",
   "execution_count": 2,
   "metadata": {
    "collapsed": false
   },
   "outputs": [
    {
     "name": "stdout",
     "output_type": "stream",
     "text": [
      "65683\n",
      "256\n",
      "15\n",
      "20\n"
     ]
    }
   ],
   "source": [
    "print(2+56+84+65498+21+22)  ## Please note that we are adding the numbers 2, 56, 84, 65498, 21 and 22.  Python will print out the sum, which is 65683. \n",
    "print(2**8)  ##Please note that while * is for multiplication,  ** is for exponents.  Hence 2**8 is 2^8, which is 256. \n",
    "print((1+4)*(9-6))  ## following the Order of Operations (PEMDAS), it will be evaluated as: (5)*(3) = 15\n",
    "print((5*4))  #This will just be 20. \n",
    "\n",
    "#This demonstrates how Python can be used as a calculator too since it can do some simple math.  "
   ]
  },
  {
   "cell_type": "markdown",
   "metadata": {},
   "source": [
    "## Characters"
   ]
  },
  {
   "cell_type": "code",
   "execution_count": 2,
   "metadata": {
    "collapsed": false
   },
   "outputs": [
    {
     "name": "stdout",
     "output_type": "stream",
     "text": [
      "s a\n",
      "p\n",
      "s\n",
      "pa pam spa\n",
      "sp\n"
     ]
    }
   ],
   "source": [
    "s = 'spam'  #Here, please note that we have created a new variable, s, and have assigned a text string (characters) 'spam', to this variable s.  \n",
    "print(s[0], s[-2])  #Here, we note that [] refers to the index of the character string s.  In 'spam', the 0th spot is s, the 1st spot is p, the 2nd spot is a, the 3rd spot is m.  \n",
    "#Hence, s[0] looks at the first letter (from left to right) in 'spam' and sees that it is s.  Hence Python reports s for s[0]\n",
    "# For s[1] it would have been the 2nd letter (from left to right) in 'spam', which would be p.  Hence, s[1] is p. \n",
    "print(s[-3]) # Please note that this is p.  That is, using negative #'s means that we look at 'spam' from right to left.  We look \n",
    "\n",
    "\n",
    "print(s[-0]) # this is s. \n",
    "print(s[1:3], s[1:], s[:-1])  #print(s[1:3]) will print the 2nd and 3rd letters of the string 'spam'.  \n",
    "# print s[1:] will print the 2nd letter to the end of 'spam'.  This is given by the colon ':'.  \n",
    "#print(s[:-1]) will print out everything starting with the 2nd to last letter.  That is, it will NOT print out 'm', but it will print out everything else, which will be:'spa'. \n",
    "#[1:3] starts with the 2nd letter and the 3rd letter but does not include the 4th letter (which is position 3)\n",
    "\n",
    "print(s[:-2])  #this is sp.  \n"
   ]
  },
  {
   "cell_type": "markdown",
   "metadata": {},
   "source": [
    "## Check current working directory"
   ]
  },
  {
   "cell_type": "code",
   "execution_count": 4,
   "metadata": {
    "collapsed": false
   },
   "outputs": [
    {
     "name": "stdout",
     "output_type": "stream",
     "text": [
      "/Users/saniyakhullar/Fall510\n",
      "darwin\n"
     ]
    }
   ],
   "source": [
    "import sys #Load the sys library\n",
    "import os #Load the os library\n",
    "import re #Load regular expression pattern matching library\n",
    "print(os.getcwd())  \n",
    "print(sys.platform)"
   ]
  },
  {
   "cell_type": "markdown",
   "metadata": {},
   "source": [
    "## Help"
   ]
  },
  {
   "cell_type": "code",
   "execution_count": 11,
   "metadata": {
    "collapsed": false
   },
   "outputs": [],
   "source": [
    "help(os)"
   ]
  },
  {
   "cell_type": "code",
   "execution_count": 14,
   "metadata": {
    "collapsed": false
   },
   "outputs": [],
   "source": [
    "import urllib.request\n",
    "r = urllib.request.urlopen('https://github.com/Math510/Math510.github.io/raw/master/2015%20FALL%20510%20Course%20Schedule.pdf')\n",
    "myfile = open('<need to specify a location on your computer>', 'wb')  \n",
    "myfile.write(r.read())\n",
    "myfile.close()"
   ]
  },
  {
   "cell_type": "code",
   "execution_count": 16,
   "metadata": {
    "collapsed": false
   },
   "outputs": [],
   "source": [
    "r = urllib.request.urlopen('https://github.com/Math510/Math510.github.io/raw/master/2015%20FALL%20510%20Syllabus.pdf')\n",
    "myfile = open('<need to specify a location on your computer>', 'wb')\n",
    "myfile.write(r.read())\n",
    "myfile.close()"
   ]
  },
  {
   "cell_type": "markdown",
   "metadata": {},
   "source": [
    "## Modules"
   ]
  },
  {
   "cell_type": "markdown",
   "metadata": {},
   "source": [
    "### Create a variable"
   ]
  },
  {
   "cell_type": "code",
   "execution_count": 2,
   "metadata": {
    "collapsed": false
   },
   "outputs": [
    {
     "name": "stdout",
     "output_type": "stream",
     "text": [
      "Something Else\n"
     ]
    }
   ],
   "source": [
    "title = 'Something Else'\n",
    "print(title)"
   ]
  },
  {
   "cell_type": "markdown",
   "metadata": {},
   "source": [
    "### Import variables from a module"
   ]
  },
  {
   "cell_type": "code",
   "execution_count": 3,
   "metadata": {
    "collapsed": false
   },
   "outputs": [
    {
     "name": "stdout",
     "output_type": "stream",
     "text": [
      "Math 510 Fall 2015\n",
      "54.0\n",
      "Something Else\n"
     ]
    }
   ],
   "source": [
    "import Class_1_Module #uses Class_1_Module name space\n",
    "dir(Class_1_Module)\n",
    "print(Class_1_Module.title)\n",
    "print(Class_1_Module.MyAge)\n",
    "\n",
    "print(title)"
   ]
  },
  {
   "cell_type": "markdown",
   "metadata": {},
   "source": [
    "## Show the difference in scope between importing a module and importing a specific variable from the module"
   ]
  },
  {
   "cell_type": "code",
   "execution_count": 4,
   "metadata": {
    "collapsed": false
   },
   "outputs": [
    {
     "name": "stdout",
     "output_type": "stream",
     "text": [
      "Math 510 Fall 2015\n"
     ]
    }
   ],
   "source": [
    "#copies into local name space, overwrites same named variable\n",
    "#without warning\n",
    "from Class_1_Module import title \n",
    "print(title)"
   ]
  },
  {
   "cell_type": "markdown",
   "metadata": {},
   "source": [
    "## Functions"
   ]
  },
  {
   "cell_type": "code",
   "execution_count": null,
   "metadata": {
    "collapsed": false
   },
   "outputs": [],
   "source": []
  }
 ],
 "metadata": {
  "kernelspec": {
   "display_name": "Python 3",
   "language": "python",
   "name": "python3"
  },
  "language_info": {
   "codemirror_mode": {
    "name": "ipython",
    "version": 3
   },
   "file_extension": ".py",
   "mimetype": "text/x-python",
   "name": "python",
   "nbconvert_exporter": "python",
   "pygments_lexer": "ipython3",
   "version": "3.4.3"
  }
 },
 "nbformat": 4,
 "nbformat_minor": 0
}
